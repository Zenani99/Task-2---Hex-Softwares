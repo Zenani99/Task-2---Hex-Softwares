{
 "cells": [
  {
   "cell_type": "markdown",
   "id": "cc8ea13d",
   "metadata": {},
   "source": [
    "## TASK 2 PROJECT 1 -HEX SOFTWARES"
   ]
  },
  {
   "cell_type": "markdown",
   "id": "0b54f068",
   "metadata": {},
   "source": [
    "## Model Performance Evaluation and Visualization\n",
    "\n",
    "Introduction\n",
    "\n",
    "\n",
    "In this project, we will evaluate the performance of a machine learning model using the Titanic dataset, a well-known dataset from the OpenML repository. The Titanic dataset provides information on the passengers of the Titanic, including details such as their age, gender, ticket class, and whether they survived the tragic sinking of the ship.\n",
    "\n",
    "Why Choose the Titanic Dataset?\n",
    "\n",
    "The Titanic dataset is a popular choice for data science projects due to several reasons:\n",
    "\n",
    "\n",
    "Historical Significance: The story of the Titanic is widely known and provides a compelling narrative for our analysis.\n",
    "\n",
    "\n",
    "Rich Features: The dataset includes a variety of features that allow for comprehensive exploration and modeling.\n",
    "\n",
    "\n",
    "Educational Value: It's a great dataset for teaching and learning machine learning techniques, as it is small and easy to work with, yet still offers valuable insights.\n",
    "\n",
    "\n",
    "Credits\n",
    "\n",
    "The Titanic dataset is sourced from the OpenML repository and is maintained by the machine learning community. We extend our gratitude to all the contributors who have made this dataset available for educational and research purposes."
   ]
  },
  {
   "cell_type": "code",
   "execution_count": 4,
   "id": "f0588454",
   "metadata": {
    "scrolled": true
   },
   "outputs": [
    {
     "name": "stderr",
     "output_type": "stream",
     "text": [
      "C:\\Users\\princ\\anaconda3\\Lib\\site-packages\\sklearn\\datasets\\_openml.py:1002: FutureWarning: The default value of `parser` will change from `'liac-arff'` to `'auto'` in 1.4. You can set `parser='auto'` to silence this warning. Therefore, an `ImportError` will be raised from 1.4 if the dataset is dense and pandas is not installed. Note that the pandas parser may return different data types. See the Notes Section in fetch_openml's API doc for details.\n",
      "  warn(\n"
     ]
    },
    {
     "data": {
      "text/html": [
       "<div>\n",
       "<style scoped>\n",
       "    .dataframe tbody tr th:only-of-type {\n",
       "        vertical-align: middle;\n",
       "    }\n",
       "\n",
       "    .dataframe tbody tr th {\n",
       "        vertical-align: top;\n",
       "    }\n",
       "\n",
       "    .dataframe thead th {\n",
       "        text-align: right;\n",
       "    }\n",
       "</style>\n",
       "<table border=\"1\" class=\"dataframe\">\n",
       "  <thead>\n",
       "    <tr style=\"text-align: right;\">\n",
       "      <th></th>\n",
       "      <th>pclass</th>\n",
       "      <th>survived</th>\n",
       "      <th>sex</th>\n",
       "      <th>age</th>\n",
       "      <th>sibsp</th>\n",
       "      <th>parch</th>\n",
       "      <th>fare</th>\n",
       "      <th>cabin</th>\n",
       "      <th>embarked</th>\n",
       "    </tr>\n",
       "  </thead>\n",
       "  <tbody>\n",
       "    <tr>\n",
       "      <th>0</th>\n",
       "      <td>1.0</td>\n",
       "      <td>1</td>\n",
       "      <td>0</td>\n",
       "      <td>29.0000</td>\n",
       "      <td>0.0</td>\n",
       "      <td>0.0</td>\n",
       "      <td>211.3375</td>\n",
       "      <td>43</td>\n",
       "      <td>2</td>\n",
       "    </tr>\n",
       "    <tr>\n",
       "      <th>1</th>\n",
       "      <td>1.0</td>\n",
       "      <td>1</td>\n",
       "      <td>1</td>\n",
       "      <td>0.9167</td>\n",
       "      <td>1.0</td>\n",
       "      <td>2.0</td>\n",
       "      <td>151.5500</td>\n",
       "      <td>79</td>\n",
       "      <td>2</td>\n",
       "    </tr>\n",
       "    <tr>\n",
       "      <th>2</th>\n",
       "      <td>1.0</td>\n",
       "      <td>0</td>\n",
       "      <td>0</td>\n",
       "      <td>2.0000</td>\n",
       "      <td>1.0</td>\n",
       "      <td>2.0</td>\n",
       "      <td>151.5500</td>\n",
       "      <td>79</td>\n",
       "      <td>2</td>\n",
       "    </tr>\n",
       "    <tr>\n",
       "      <th>3</th>\n",
       "      <td>1.0</td>\n",
       "      <td>0</td>\n",
       "      <td>1</td>\n",
       "      <td>30.0000</td>\n",
       "      <td>1.0</td>\n",
       "      <td>2.0</td>\n",
       "      <td>151.5500</td>\n",
       "      <td>79</td>\n",
       "      <td>2</td>\n",
       "    </tr>\n",
       "    <tr>\n",
       "      <th>4</th>\n",
       "      <td>1.0</td>\n",
       "      <td>0</td>\n",
       "      <td>0</td>\n",
       "      <td>25.0000</td>\n",
       "      <td>1.0</td>\n",
       "      <td>2.0</td>\n",
       "      <td>151.5500</td>\n",
       "      <td>79</td>\n",
       "      <td>2</td>\n",
       "    </tr>\n",
       "  </tbody>\n",
       "</table>\n",
       "</div>"
      ],
      "text/plain": [
       "   pclass survived  sex      age  sibsp  parch      fare  cabin  embarked\n",
       "0     1.0        1    0  29.0000    0.0    0.0  211.3375     43         2\n",
       "1     1.0        1    1   0.9167    1.0    2.0  151.5500     79         2\n",
       "2     1.0        0    0   2.0000    1.0    2.0  151.5500     79         2\n",
       "3     1.0        0    1  30.0000    1.0    2.0  151.5500     79         2\n",
       "4     1.0        0    0  25.0000    1.0    2.0  151.5500     79         2"
      ]
     },
     "execution_count": 4,
     "metadata": {},
     "output_type": "execute_result"
    }
   ],
   "source": [
    "import pandas as pd\n",
    "import numpy as np\n",
    "from sklearn.datasets import fetch_openml\n",
    "from sklearn.preprocessing import LabelEncoder\n",
    "\n",
    "# Load the Titanic dataset\n",
    "titanic = fetch_openml('titanic', version=1, as_frame=True)\n",
    "data = titanic.frame\n",
    "\n",
    "# Drop irrelevant columns\n",
    "data.drop(columns=['name', 'ticket', 'boat', 'body', 'home.dest'], inplace=True)\n",
    "\n",
    "# Handle missing values\n",
    "data.fillna(method='ffill', inplace=True)\n",
    "\n",
    "# Convert categorical columns to numerical\n",
    "label_encoder = LabelEncoder()\n",
    "categorical_cols = ['sex', 'cabin', 'embarked']\n",
    "\n",
    "for col in categorical_cols:\n",
    "    data[col] = label_encoder.fit_transform(data[col].astype(str))\n",
    "\n",
    "# Display the first few rows\n",
    "data.head()\n"
   ]
  },
  {
   "cell_type": "markdown",
   "id": "64333d86",
   "metadata": {},
   "source": [
    "# Data Splitting \n",
    "\n",
    "## Importance of Data Splitting\n",
    "\n",
    "Splitting the data into training and testing sets prevents overfitting, provides a fair method for model evaluation, and helps in tuning hyperparameters. We split our data into 80% training and 20% testing to ensure the model learns effectively while being evaluated on unseen data.\n"
   ]
  },
  {
   "cell_type": "code",
   "execution_count": 5,
   "id": "29957983",
   "metadata": {},
   "outputs": [],
   "source": [
    "from sklearn.model_selection import train_test_split\n",
    "\n",
    "# Split the data\n",
    "X = data.drop(columns=['survived'])\n",
    "y = data['survived']\n",
    "X_train, X_test, y_train, y_test = train_test_split(X, y, test_size=0.2, random_state=42)\n"
   ]
  },
  {
   "cell_type": "markdown",
   "id": "28107ee5",
   "metadata": {},
   "source": [
    "# Train the Model\n",
    "Choose a classification model (we will use Random Forest for its simplicity and effectiveness).\n",
    "\n",
    "Train the model on the training dataset.\n",
    "\n",
    "## Why Random Forest?\n",
    "\n",
    "We chose Random Forest for its versatility, robustness, and ability to handle missing values. It provides high accuracy and insights into feature importance, making it a reliable choice for our analysis."
   ]
  },
  {
   "cell_type": "code",
   "execution_count": 6,
   "id": "6122755b",
   "metadata": {},
   "outputs": [
    {
     "data": {
      "text/html": [
       "<style>#sk-container-id-1 {color: black;}#sk-container-id-1 pre{padding: 0;}#sk-container-id-1 div.sk-toggleable {background-color: white;}#sk-container-id-1 label.sk-toggleable__label {cursor: pointer;display: block;width: 100%;margin-bottom: 0;padding: 0.3em;box-sizing: border-box;text-align: center;}#sk-container-id-1 label.sk-toggleable__label-arrow:before {content: \"▸\";float: left;margin-right: 0.25em;color: #696969;}#sk-container-id-1 label.sk-toggleable__label-arrow:hover:before {color: black;}#sk-container-id-1 div.sk-estimator:hover label.sk-toggleable__label-arrow:before {color: black;}#sk-container-id-1 div.sk-toggleable__content {max-height: 0;max-width: 0;overflow: hidden;text-align: left;background-color: #f0f8ff;}#sk-container-id-1 div.sk-toggleable__content pre {margin: 0.2em;color: black;border-radius: 0.25em;background-color: #f0f8ff;}#sk-container-id-1 input.sk-toggleable__control:checked~div.sk-toggleable__content {max-height: 200px;max-width: 100%;overflow: auto;}#sk-container-id-1 input.sk-toggleable__control:checked~label.sk-toggleable__label-arrow:before {content: \"▾\";}#sk-container-id-1 div.sk-estimator input.sk-toggleable__control:checked~label.sk-toggleable__label {background-color: #d4ebff;}#sk-container-id-1 div.sk-label input.sk-toggleable__control:checked~label.sk-toggleable__label {background-color: #d4ebff;}#sk-container-id-1 input.sk-hidden--visually {border: 0;clip: rect(1px 1px 1px 1px);clip: rect(1px, 1px, 1px, 1px);height: 1px;margin: -1px;overflow: hidden;padding: 0;position: absolute;width: 1px;}#sk-container-id-1 div.sk-estimator {font-family: monospace;background-color: #f0f8ff;border: 1px dotted black;border-radius: 0.25em;box-sizing: border-box;margin-bottom: 0.5em;}#sk-container-id-1 div.sk-estimator:hover {background-color: #d4ebff;}#sk-container-id-1 div.sk-parallel-item::after {content: \"\";width: 100%;border-bottom: 1px solid gray;flex-grow: 1;}#sk-container-id-1 div.sk-label:hover label.sk-toggleable__label {background-color: #d4ebff;}#sk-container-id-1 div.sk-serial::before {content: \"\";position: absolute;border-left: 1px solid gray;box-sizing: border-box;top: 0;bottom: 0;left: 50%;z-index: 0;}#sk-container-id-1 div.sk-serial {display: flex;flex-direction: column;align-items: center;background-color: white;padding-right: 0.2em;padding-left: 0.2em;position: relative;}#sk-container-id-1 div.sk-item {position: relative;z-index: 1;}#sk-container-id-1 div.sk-parallel {display: flex;align-items: stretch;justify-content: center;background-color: white;position: relative;}#sk-container-id-1 div.sk-item::before, #sk-container-id-1 div.sk-parallel-item::before {content: \"\";position: absolute;border-left: 1px solid gray;box-sizing: border-box;top: 0;bottom: 0;left: 50%;z-index: -1;}#sk-container-id-1 div.sk-parallel-item {display: flex;flex-direction: column;z-index: 1;position: relative;background-color: white;}#sk-container-id-1 div.sk-parallel-item:first-child::after {align-self: flex-end;width: 50%;}#sk-container-id-1 div.sk-parallel-item:last-child::after {align-self: flex-start;width: 50%;}#sk-container-id-1 div.sk-parallel-item:only-child::after {width: 0;}#sk-container-id-1 div.sk-dashed-wrapped {border: 1px dashed gray;margin: 0 0.4em 0.5em 0.4em;box-sizing: border-box;padding-bottom: 0.4em;background-color: white;}#sk-container-id-1 div.sk-label label {font-family: monospace;font-weight: bold;display: inline-block;line-height: 1.2em;}#sk-container-id-1 div.sk-label-container {text-align: center;}#sk-container-id-1 div.sk-container {/* jupyter's `normalize.less` sets `[hidden] { display: none; }` but bootstrap.min.css set `[hidden] { display: none !important; }` so we also need the `!important` here to be able to override the default hidden behavior on the sphinx rendered scikit-learn.org. See: https://github.com/scikit-learn/scikit-learn/issues/21755 */display: inline-block !important;position: relative;}#sk-container-id-1 div.sk-text-repr-fallback {display: none;}</style><div id=\"sk-container-id-1\" class=\"sk-top-container\"><div class=\"sk-text-repr-fallback\"><pre>RandomForestClassifier(random_state=42)</pre><b>In a Jupyter environment, please rerun this cell to show the HTML representation or trust the notebook. <br />On GitHub, the HTML representation is unable to render, please try loading this page with nbviewer.org.</b></div><div class=\"sk-container\" hidden><div class=\"sk-item\"><div class=\"sk-estimator sk-toggleable\"><input class=\"sk-toggleable__control sk-hidden--visually\" id=\"sk-estimator-id-1\" type=\"checkbox\" checked><label for=\"sk-estimator-id-1\" class=\"sk-toggleable__label sk-toggleable__label-arrow\">RandomForestClassifier</label><div class=\"sk-toggleable__content\"><pre>RandomForestClassifier(random_state=42)</pre></div></div></div></div></div>"
      ],
      "text/plain": [
       "RandomForestClassifier(random_state=42)"
      ]
     },
     "execution_count": 6,
     "metadata": {},
     "output_type": "execute_result"
    }
   ],
   "source": [
    "from sklearn.ensemble import RandomForestClassifier\n",
    "\n",
    "# Train the model\n",
    "model = RandomForestClassifier(random_state=42)\n",
    "model.fit(X_train, y_train)\n"
   ]
  },
  {
   "cell_type": "markdown",
   "id": "54ce50df",
   "metadata": {},
   "source": [
    "## Evaluate the Model\n",
    "Evaluate the model's performance using accuracy, precision, recall, and F1 score."
   ]
  },
  {
   "cell_type": "code",
   "execution_count": 7,
   "id": "794385e4",
   "metadata": {},
   "outputs": [
    {
     "name": "stdout",
     "output_type": "stream",
     "text": [
      "Accuracy: 0.77\n",
      "Precision: 0.77\n",
      "Recall: 0.77\n",
      "F1 Score: 0.77\n"
     ]
    }
   ],
   "source": [
    "from sklearn.metrics import accuracy_score, precision_score, recall_score, f1_score\n",
    "\n",
    "# Make predictions\n",
    "y_pred = model.predict(X_test)\n",
    "\n",
    "# Calculate metrics\n",
    "accuracy = accuracy_score(y_test, y_pred)\n",
    "precision = precision_score(y_test, y_pred, average='weighted')\n",
    "recall = recall_score(y_test, y_pred, average='weighted')\n",
    "f1 = f1_score(y_test, y_pred, average='weighted')\n",
    "\n",
    "print(f'Accuracy: {accuracy:.2f}')\n",
    "print(f'Precision: {precision:.2f}')\n",
    "print(f'Recall: {recall:.2f}')\n",
    "print(f'F1 Score: {f1:.2f}')\n"
   ]
  },
  {
   "cell_type": "markdown",
   "id": "0d6128f3",
   "metadata": {},
   "source": [
    "These are solid results for a first run with the Random Forest model on the Titanic dataset! Here's a quick rundown of what these metrics mean:\n",
    "\n",
    "Accuracy: 0.77: This means our model correctly classified 77% of the instances in the test set. This is a decent accuracy, indicating that the model has learned to make reliable predictions.\n",
    "\n",
    "Precision: 0.77: Our model's positive predictions are 77% correct. This suggests a good balance between precision and false positives.\n",
    "\n",
    "Recall: 0.77: The model correctly identified 77% of the actual positive instances. This indicates effective capture of positive instances.\n",
    "\n",
    "F1 Score: 0.77: The harmonic mean of precision and recall is 0.77, showing that our model maintains a good balance between these two metrics.\n",
    "\n",
    "Overall, a 0.77 score across these metrics suggests our Random Forest model performs quite well on the Titanic dataset"
   ]
  },
  {
   "cell_type": "markdown",
   "id": "781dd865",
   "metadata": {},
   "source": [
    "## Visualize the Results\n",
    "As I am using the confusion matrix and classification report for visualization.\n",
    "\n",
    "Adding some plots to make it visually engaging."
   ]
  },
  {
   "cell_type": "code",
   "execution_count": 8,
   "id": "4622cbba",
   "metadata": {},
   "outputs": [
    {
     "data": {
      "image/png": "[encoded data removed]",
      "text/plain": [
       "<Figure size 1000x700 with 2 Axes>"
      ]
     },
     "metadata": {},
     "output_type": "display_data"
    },
    {
     "name": "stdout",
     "output_type": "stream",
     "text": [
      "Classification Report\n",
      "              precision    recall  f1-score   support\n",
      "\n",
      "           0       0.76      0.85      0.80       144\n",
      "           1       0.79      0.67      0.72       118\n",
      "\n",
      "    accuracy                           0.77       262\n",
      "   macro avg       0.77      0.76      0.76       262\n",
      "weighted avg       0.77      0.77      0.77       262\n",
      "\n"
     ]
    }
   ],
   "source": [
    "import matplotlib.pyplot as plt\n",
    "import seaborn as sns\n",
    "from sklearn.metrics import confusion_matrix, classification_report\n",
    "\n",
    "# Confusion Matrix\n",
    "conf_matrix = confusion_matrix(y_test, y_pred)\n",
    "plt.figure(figsize=(10, 7))\n",
    "sns.heatmap(conf_matrix, annot=True, fmt='d', cmap='Blues')\n",
    "plt.title('Confusion Matrix')\n",
    "plt.xlabel('Predicted')\n",
    "plt.ylabel('Actual')\n",
    "plt.show()\n",
    "\n",
    "# Classification Report\n",
    "print('Classification Report')\n",
    "print(classification_report(y_test, y_pred))\n"
   ]
  },
  {
   "cell_type": "markdown",
   "id": "07b2cdeb",
   "metadata": {},
   "source": [
    "## Detailed Model Evaluation\n",
    "\n",
    "Class 0 (Did Not Survive)\n",
    "Precision: 0.76: Out of all the predictions made for Class 0 (did not survive), 76% were correct.\n",
    "\n",
    "Recall: 0.85: Out of all the actual instances of Class 0, 85% were correctly identified by the model.\n",
    "\n",
    "F1-Score: 0.80: This is the harmonic mean of precision and recall, providing a balanced measure of the model's performance for Class 0.\n",
    "\n",
    "Support: 144: The number of actual instances of Class 0 in the test set.\n",
    "\n",
    "Class 1 (Survived)\n",
    "Precision: 0.79: Out of all the predictions made for Class 1 (survived), 79% were correct.\n",
    "\n",
    "Recall: 0.67: Out of all the actual instances of Class 1, 67% were correctly identified by the model.\n",
    "\n",
    "F1-Score: 0.72: This is the harmonic mean of precision and recall, providing a balanced measure of the model's performance for Class 1.\n",
    "\n",
    "Support: 118: The number of actual instances of Class 1 in the test set.\n",
    "\n",
    "Overall Metrics\n",
    "Accuracy: 0.77: The overall proportion of correctly classified instances is 77%.\n",
    "\n",
    "Macro Average: This is the unweighted average of precision, recall, and F1-score for both classes. It provides a general sense of the model's performance across all classes.\n",
    "\n",
    "Precision: 0.77\n",
    "\n",
    "Recall: 0.76\n",
    "\n",
    "F1-Score: 0.76\n",
    "\n",
    "Weighted Average: This average takes into account the support (the number of true instances) for each class, providing a more balanced overview of the model's performance.\n",
    "\n",
    "Precision: 0.77\n",
    "\n",
    "Recall: 0.77\n",
    "\n",
    "F1-Score: 0.77\n",
    "\n",
    "## Insights\n",
    "\n",
    "The model performs slightly better at identifying passengers who did not survive (Class 0) than those who survived (Class 1). This can be seen from the higher recall for Class 0 (0.85) compared to Class 1 (0.67).\n",
    "\n",
    "The balanced F1-scores (0.80 for Class 0 and 0.72 for Class 1) indicate that the model maintains a good trade-off between precision and recall for both classes.\n",
    "\n",
    "The overall accuracy of 77% is a solid starting point, suggesting that the model is effective, but there's always room for further improvement."
   ]
  },
  {
   "cell_type": "markdown",
   "id": "44e705ca",
   "metadata": {},
   "source": [
    "# We have come to the end of project 1 , see you on the next one 😉"
   ]
  },
  {
   "cell_type": "code",
   "execution_count": null,
   "id": "573ca1a2",
   "metadata": {},
   "outputs": [],
   "source": []
  }
 ],
 "metadata": {
  "kernelspec": {
   "display_name": "Python 3 (ipykernel)",
   "language": "python",
   "name": "python3"
  },
  "language_info": {
   "codemirror_mode": {
    "name": "ipython",
    "version": 3
   },
   "file_extension": ".py",
   "mimetype": "text/x-python",
   "name": "python",
   "nbconvert_exporter": "python",
   "pygments_lexer": "ipython3",
   "version": "3.11.5"
  }
 },
 "nbformat": 4,
 "nbformat_minor": 5
}
